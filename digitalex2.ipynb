{
 "cells": [
  {
   "cell_type": "code",
   "execution_count": null,
   "id": "a9f65608",
   "metadata": {},
   "outputs": [],
   "source": [
    "HARSHITHA V\n",
    "212223230074"
   ]
  },
  {
   "cell_type": "code",
   "execution_count": 9,
   "id": "6ba60346",
   "metadata": {},
   "outputs": [
    {
     "name": "stdout",
     "output_type": "stream",
     "text": [
      "Image saved as web.jpg\n"
     ]
    }
   ],
   "source": [
    "import cv2\n",
    "videoCaptureObject = cv2.VideoCapture(0)\n",
    "ret, frame = videoCaptureObject.read()\n",
    "if ret:\n",
    "    cv2.imwrite(\"web.jpg\", frame)\n",
    "    print(\"Image saved as web.jpg\")\n",
    "else:\n",
    "    print(\"Failed to capture image\")\n",
    "videoCaptureObject.release()\n",
    "cv2.destroyAllWindows()"
   ]
  },
  {
   "cell_type": "code",
   "execution_count": null,
   "id": "09d1e37a",
   "metadata": {},
   "outputs": [],
   "source": [
    "videoCaptureObject = cv2.VideoCapture(0)\n",
    "while True:\n",
    "    ret, frame = videoCaptureObject.read()\n",
    "    cv2.imshow('myimage', frame)\n",
    "    if cv2.waitKey(1) & 0xFF == ord('q'):\n",
    "        break\n",
    "videoCaptureObject.release()\n",
    "cv2.destroyAllWindows()"
   ]
  },
  {
   "cell_type": "code",
   "execution_count": null,
   "id": "154d43af",
   "metadata": {},
   "outputs": [],
   "source": [
    "HARSHITHA V\n",
    "212223230074"
   ]
  },
  {
   "cell_type": "code",
   "execution_count": null,
   "id": "fc4c37ed",
   "metadata": {},
   "outputs": [],
   "source": [
    "import numpy as np\n",
    "cap = cv2.VideoCapture(0)\n",
    "while True:\n",
    "    ret, frame = cap.read() \n",
    "    width = int(cap.get(3))\n",
    "    height = int(cap.get(4))\n",
    "    image = np.zeros(frame.shape, np.uint8) \n",
    "    smaller_frame = cv2.resize(frame, (0,0), fx = 0.5, fy=0.5) \n",
    "    image[:height//2, :width//2] = smaller_frame\n",
    "    image[height//2:, :width//2] = smaller_frame\n",
    "    image[:height//2, width//2:] = smaller_frame \n",
    "    image [height//2:, width//2:] = smaller_frame\n",
    "    cv2.imshow('myimage', image)\n",
    "    if cv2.waitKey(1) == ord('q'):\n",
    "        break\n",
    "cap.release()\n",
    "cv2.destroyAllWindows()"
   ]
  },
  {
   "cell_type": "code",
   "execution_count": null,
   "id": "04b86fe2",
   "metadata": {},
   "outputs": [],
   "source": [
    "import numpy as np\n",
    "cap = cv2.VideoCapture(0)\n",
    "while True:\n",
    "    ret, frame = cap.read() \n",
    "    width = int(cap.get(3))\n",
    "    height = int(cap.get(4))\n",
    "    image = np.zeros(frame.shape, np.uint8) \n",
    "    smaller_frame = cv2.resize(frame, (0,0), fx = 0.5, fy=0.5) \n",
    "    image[:height//2, :width//2] = cv2.rotate(smaller_frame,cv2.ROTATE_180)\n",
    "    image[height//2:, :width//2] = cv2.rotate(smaller_frame,cv2.ROTATE_180)\n",
    "    image[:height//2, width//2:] = smaller_frame \n",
    "    image [height//2:, width//2:] = smaller_frame\n",
    "    cv2.imshow('myimage', image)\n",
    "    if cv2.waitKey(1) == ord('q'):\n",
    "        break\n",
    "cap.release()\n",
    "cv2.destroyAllWindows()"
   ]
  },
  {
   "cell_type": "code",
   "execution_count": null,
   "id": "464d8f75",
   "metadata": {},
   "outputs": [],
   "source": [
    "HARSHITHA V\n",
    "212223230074"
   ]
  }
 ],
 "metadata": {
  "kernelspec": {
   "display_name": "Python 3 (ipykernel)",
   "language": "python",
   "name": "python3"
  },
  "language_info": {
   "codemirror_mode": {
    "name": "ipython",
    "version": 3
   },
   "file_extension": ".py",
   "mimetype": "text/x-python",
   "name": "python",
   "nbconvert_exporter": "python",
   "pygments_lexer": "ipython3",
   "version": "3.11.3"
  }
 },
 "nbformat": 4,
 "nbformat_minor": 5
}
